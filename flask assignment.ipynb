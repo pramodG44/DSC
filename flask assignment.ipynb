{
 "cells": [
  {
   "cell_type": "code",
   "execution_count": 16,
   "metadata": {},
   "outputs": [],
   "source": [
    "from flask import Flask, render_template, request\n",
    "from form import weatherform\n",
    "import requests"
   ]
  },
  {
   "cell_type": "code",
   "execution_count": 17,
   "metadata": {},
   "outputs": [],
   "source": [
    "app = Flask(__name__)"
   ]
  },
  {
   "cell_type": "code",
   "execution_count": 18,
   "metadata": {},
   "outputs": [],
   "source": [
    "app.config['SECRET_KEY'] = 'b77a6425a20dadb6f739579634a6ba98'"
   ]
  },
  {
   "cell_type": "code",
   "execution_count": 19,
   "metadata": {},
   "outputs": [],
   "source": [
    "@app.route('/' , methods= ['POST', 'GET'])\n",
    "def weathercheck():\n",
    "    weather = ''\n",
    "    form1 = weatherform()\n",
    "    if form1.is_submitted():\n",
    "        x = form1.city.data\n",
    "        apiid1 = 'https://api.openweathermap.org/data/2.5/weather?q='\n",
    "        apiid2 = \"&appid=28884bae2c5eab46ca9e9e3b0e20b450\"\n",
    "        response = requests.get(apiid1+x+apiid2)\n",
    "        data=response.json()\n",
    "        try:\n",
    "            weather='Condition - '+data['weather'][0]['main']+' Temprature - '+ str(round(data['main']['temp']-273.15))+u\"\\u2103\"+' Wind Speed - '+ str(data['wind']['speed'])+' m/s'\n",
    "            #var.set(weather)\n",
    "        except:\n",
    "            #var.set('Please enter the name of a city.')\n",
    "            weather= 'Please enter the name of a city.'\n",
    "    return render_template('form.html', form = form1 , weather= weather)"
   ]
  },
  {
   "cell_type": "code",
   "execution_count": 20,
   "metadata": {},
   "outputs": [
    {
     "name": "stdout",
     "output_type": "stream",
     "text": [
      " * Serving Flask app \"__main__\" (lazy loading)\n",
      " * Environment: production\n",
      "   WARNING: This is a development server. Do not use it in a production deployment.\n",
      "   Use a production WSGI server instead.\n",
      " * Debug mode: off\n"
     ]
    },
    {
     "name": "stderr",
     "output_type": "stream",
     "text": [
      " * Running on http://127.0.0.1:5000/ (Press CTRL+C to quit)\n",
      "127.0.0.1 - - [26/Oct/2019 15:32:29] \"POST / HTTP/1.1\" 200 -\n",
      "127.0.0.1 - - [26/Oct/2019 15:32:32] \"POST / HTTP/1.1\" 200 -\n",
      "127.0.0.1 - - [26/Oct/2019 15:32:39] \"POST / HTTP/1.1\" 200 -\n"
     ]
    }
   ],
   "source": [
    "if __name__ == '__main__':\n",
    "    app.run()"
   ]
  },
  {
   "cell_type": "code",
   "execution_count": null,
   "metadata": {},
   "outputs": [],
   "source": []
  },
  {
   "cell_type": "code",
   "execution_count": null,
   "metadata": {},
   "outputs": [],
   "source": []
  }
 ],
 "metadata": {
  "kernelspec": {
   "display_name": "Python 3",
   "language": "python",
   "name": "python3"
  },
  "language_info": {
   "codemirror_mode": {
    "name": "ipython",
    "version": 3
   },
   "file_extension": ".py",
   "mimetype": "text/x-python",
   "name": "python",
   "nbconvert_exporter": "python",
   "pygments_lexer": "ipython3",
   "version": "3.7.3"
  }
 },
 "nbformat": 4,
 "nbformat_minor": 4
}
