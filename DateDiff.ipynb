{
 "cells": [
  {
   "cell_type": "code",
   "execution_count": 4,
   "metadata": {},
   "outputs": [
    {
     "name": "stdout",
     "output_type": "stream",
     "text": [
      "ENTER THE FIRST DATE IN THE FORMAT YEAR, MONTH, DATE SEPERATED WITH COMMA: 2019,5,6\n",
      "ENTER THE SECOND DATE IN THE FORMAT YEAR, MONTH, DATE SEPERATED WITH COMMA: 2019,5,5\n",
      "-1\n"
     ]
    }
   ],
   "source": [
    "import datetime\n",
    "fdate = str(input('ENTER THE FIRST DATE IN THE FORMAT YEAR, MONTH, DATE SEPERATED WITH COMMA: '))\n",
    "sdate = str(input('ENTER THE SECOND DATE IN THE FORMAT YEAR, MONTH, DATE SEPERATED WITH COMMA: '))\n",
    "fdate = fdate.split(',')\n",
    "sdate = sdate.split(',')\n",
    "firstdate= datetime.date(int(fdate[0]),int(fdate[1]), int(fdate[2]) ) \n",
    "seconddate= datetime.date(int(sdate[0]),int(sdate[1]), int(sdate[2]) ) \n",
    "print((seconddate-firstdate).days)"
   ]
  },
  {
   "cell_type": "code",
   "execution_count": 6,
   "metadata": {},
   "outputs": [],
   "source": [
    "class PowTwo:\n",
    "    \"\"\"Class to implement an iterator\n",
    "    of powers of two\"\"\"\n",
    "\n",
    "    def __init__(self, max = 0):\n",
    "        self.max = max\n",
    "\n",
    "    def __iter__(self):\n",
    "        self.n = 0\n",
    "        return self\n",
    "\n",
    "    def __next__(self):\n",
    "        if self.n <= self.max:\n",
    "            result = 2 ** self.n\n",
    "            self.n += 1\n",
    "            return result\n",
    "        else:\n",
    "            raise StopIteration"
   ]
  },
  {
   "cell_type": "code",
   "execution_count": null,
   "metadata": {},
   "outputs": [],
   "source": []
  },
  {
   "cell_type": "code",
   "execution_count": null,
   "metadata": {},
   "outputs": [],
   "source": []
  }
 ],
 "metadata": {
  "kernelspec": {
   "display_name": "Python 3",
   "language": "python",
   "name": "python3"
  },
  "language_info": {
   "codemirror_mode": {
    "name": "ipython",
    "version": 3
   },
   "file_extension": ".py",
   "mimetype": "text/x-python",
   "name": "python",
   "nbconvert_exporter": "python",
   "pygments_lexer": "ipython3",
   "version": "3.7.3"
  }
 },
 "nbformat": 4,
 "nbformat_minor": 2
}
