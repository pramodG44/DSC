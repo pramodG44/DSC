{
 "cells": [
  {
   "cell_type": "code",
   "execution_count": 19,
   "metadata": {},
   "outputs": [],
   "source": [
    "import numpy as np\n",
    "import pandas as pd\n",
    "import requests\n",
    "import json\n",
    "from tkinter import *"
   ]
  },
  {
   "cell_type": "code",
   "execution_count": 22,
   "metadata": {},
   "outputs": [],
   "source": [
    "apiid1 = 'https://api.openweathermap.org/data/2.5/weather?q='\n",
    "apiid2 = \"&appid=28884bae2c5eab46ca9e9e3b0e20b450\"\n",
    "def checkweather():\n",
    "    x = city.get()\n",
    "    response = requests.get(apiid1+x+apiid2)\n",
    "    data=response.json()\n",
    "    try:\n",
    "        weather='Condition - '+data['weather'][0]['main']+'\\nTemprature - '+ str(data['main']['temp']-273.15)+u\"\\u2103\"+'\\nWind Speed - '+ str(data['wind']['speed'])+' m/s'\n",
    "        #var.set(weather)\n",
    "        weatherLabel['text']= weather\n",
    "    except:\n",
    "        #var.set('Please enter the name of a city.')\n",
    "        weatherLabel['text']= 'Please enter the name of a city.'"
   ]
  },
  {
   "cell_type": "code",
   "execution_count": 23,
   "metadata": {},
   "outputs": [],
   "source": [
    "window =Tk()\n",
    "window.title('Weather')\n",
    "window.geometry(\"200x200\")\n",
    "\n",
    "Label(window, text='City').grid(row = 0)\n",
    "city = Entry(window)\n",
    "city.grid(row = 1)\n",
    "city.focus_force()\n",
    "#var = StringVar()\n",
    "#weatherLabel = Label(window, textvariable =var)\n",
    "weatherLabel = Label(window)\n",
    "weatherLabel.grid(row=2,columnspan=2)\n",
    "Button(window, text='Check', command=checkweather).grid(row = 1, column = 1)\n",
    "\n",
    "window.mainloop()"
   ]
  },
  {
   "cell_type": "code",
   "execution_count": null,
   "metadata": {},
   "outputs": [],
   "source": []
  }
 ],
 "metadata": {
  "kernelspec": {
   "display_name": "Python 3",
   "language": "python",
   "name": "python3"
  },
  "language_info": {
   "codemirror_mode": {
    "name": "ipython",
    "version": 3
   },
   "file_extension": ".py",
   "mimetype": "text/x-python",
   "name": "python",
   "nbconvert_exporter": "python",
   "pygments_lexer": "ipython3",
   "version": "3.7.3"
  }
 },
 "nbformat": 4,
 "nbformat_minor": 4
}
