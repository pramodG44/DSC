{
 "cells": [
  {
   "cell_type": "code",
   "execution_count": 39,
   "metadata": {},
   "outputs": [
    {
     "name": "stdout",
     "output_type": "stream",
     "text": [
      "Enter your name : pramod\n",
      "Enter your age : 23\n",
      "How many copies do you want : 2\n",
      "\n",
      "Hi pramod your age is 23.\n",
      "\n",
      "The current Year is 2019 \n",
      "\n",
      "You will turn 100 years old on 2096.\n",
      "You will turn 100 years old on 2096.\n",
      "\n"
     ]
    }
   ],
   "source": [
    "import datetime\n",
    "\n",
    "name = str(input('Enter your name : '))\n",
    "age= int(input('Enter your age : '))\n",
    "noCopies= int(input('How many copies do you want : '))\n",
    "\n",
    "print ('\\nHi %s your age is %s.\\n' %(name, age))\n",
    "\n",
    "#current_Year = datetime.datetime.now().year\n",
    "current_Year = datetime.datetime.today().year\n",
    "print('The current Year is',current_Year,'\\n')\n",
    "\n",
    "\n",
    "till_hundred = (100-age) + current_Year\n",
    "#print('You will turn 100 years old on',(100-age) + current_Year, '\\n')\n",
    "print('You will turn 100 years old on %s.\\n' %(till_hundred) * noCopies)\n"
   ]
  },
  {
   "cell_type": "raw",
   "metadata": {},
   "source": [
    "33\n"
   ]
  },
  {
   "cell_type": "code",
   "execution_count": null,
   "metadata": {},
   "outputs": [],
   "source": []
  }
 ],
 "metadata": {
  "kernelspec": {
   "display_name": "Python 3",
   "language": "python",
   "name": "python3"
  },
  "language_info": {
   "codemirror_mode": {
    "name": "ipython",
    "version": 3
   },
   "file_extension": ".py",
   "mimetype": "text/x-python",
   "name": "python",
   "nbconvert_exporter": "python",
   "pygments_lexer": "ipython3",
   "version": "3.7.3"
  }
 },
 "nbformat": 4,
 "nbformat_minor": 2
}
