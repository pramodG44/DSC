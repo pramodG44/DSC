{
 "cells": [
  {
   "cell_type": "code",
   "execution_count": 40,
   "metadata": {},
   "outputs": [],
   "source": [
    "from tkinter import *"
   ]
  },
  {
   "cell_type": "code",
   "execution_count": 41,
   "metadata": {},
   "outputs": [],
   "source": [
    "window = Tk()\n",
    "window.title('GUI')\n",
    "'''c = Canvas(root, bg= 'red', height = 200, width= 200)\n",
    "coord = 10,80,100,120\n",
    "arc = c.create_arc(coord, fill = 'black')\n",
    "line = c.create_line(10,10,190,190, fill = 'black')\n",
    "c.pack()'''\n",
    "topframe = Frame(window).pack()\n",
    "bottomframe = Frame(window).pack(side = \"bottom\")\n",
    "button1 = Button(topframe, text='Button 1', fg='blue', bg='red').pack()\n",
    "button2 = Button(topframe, text='Button 2', fg ='blue', bg='red').pack()\n",
    "button3 = Button(bottomframe, text='Button 3', fg='red').pack(side = RIGHT)\n",
    "button4 = Button(bottomframe, text='Button 4', fg='red').pack(side = RIGHT)\n",
    "window.mainloop()"
   ]
  },
  {
   "cell_type": "code",
   "execution_count": 42,
   "metadata": {},
   "outputs": [],
   "source": [
    "window = Tk()\n",
    "window.title('GUI')\n",
    "for i in range(3):\n",
    "    for j in range(4):\n",
    "        Label(window, text='R{}C{}'.format(i,j), borderwidth= 1).grid(row = i, column = j)\n",
    "window.mainloop()"
   ]
  },
  {
   "cell_type": "code",
   "execution_count": 43,
   "metadata": {},
   "outputs": [],
   "source": [
    "window =Tk()\n",
    "window.title('GUI')\n",
    "Label(window, text ='suf. widht', fg='white', bg='black').pack()\n",
    "Label(window, text=\"Taking all available X width\", fg='blue', bg='red').pack(fill='x')\n",
    "Label(window, text=\"Taking all available Y height\", fg='black', bg='red').pack(fill='y', side = LEFT)\n",
    "window.mainloop()"
   ]
  },
  {
   "cell_type": "code",
   "execution_count": 44,
   "metadata": {},
   "outputs": [],
   "source": [
    "window = Tk()\n",
    "window.title(\"GUI\")\n",
    "\n",
    "Label(window, text = 'Username').grid(row = 0)\n",
    "Label(window, text = 'Password').grid(row = 1)\n",
    "\n",
    "Entry(window).grid(row =0, column = 1)\n",
    "Entry(window).grid(row =1, column = 1)\n",
    "\n",
    "Checkbutton(window, text='Keep me logged in').grid(columnspan =2)\n",
    "window.mainloop()"
   ]
  },
  {
   "cell_type": "code",
   "execution_count": 45,
   "metadata": {},
   "outputs": [],
   "source": [
    "def actiononclick():\n",
    "    Label(window, text = 'Hello').pack(side=LEFT)"
   ]
  },
  {
   "cell_type": "code",
   "execution_count": 50,
   "metadata": {},
   "outputs": [],
   "source": [
    "window = Tk()\n",
    "window.title('GUI')\n",
    "#Entry(window).grid(row =0, column = 1)\n",
    "Button(window, text='Click Here', command= actiononclick).pack()\n",
    "window.mainloop()"
   ]
  },
  {
   "cell_type": "code",
   "execution_count": 51,
   "metadata": {},
   "outputs": [],
   "source": [
    "window =Tk()\n",
    "window.title('GUI')\n",
    "\n",
    "def acclick(event):\n",
    "    Label(window , text='event click').pack()\n",
    "\n",
    "b=Button(window, text='Click here')\n",
    "b.bind('<Button-1>', acclick)\n",
    "b.pack()\n",
    "window.mainloop()"
   ]
  },
  {
   "cell_type": "code",
   "execution_count": 53,
   "metadata": {},
   "outputs": [],
   "source": [
    "window =Tk()\n",
    "window.title('GUI')\n",
    "\n",
    "def leftclick(event):\n",
    "    Label(window , text='Left Click').pack()\n",
    "    \n",
    "def rightclick(event):\n",
    "    Label(window , text='Right Click').pack()\n",
    "    \n",
    "def middleclick(event):\n",
    "    Label(window , text='Middle Click').pack()\n",
    "    \n",
    "window.bind('<Button-1>', leftclick)\n",
    "window.bind('<Button-3>', rightclick)\n",
    "window.bind('<Button-2>', middleclick)\n",
    "\n",
    "window.mainloop()"
   ]
  },
  {
   "cell_type": "code",
   "execution_count": null,
   "metadata": {},
   "outputs": [],
   "source": []
  }
 ],
 "metadata": {
  "kernelspec": {
   "display_name": "Python 3",
   "language": "python",
   "name": "python3"
  },
  "language_info": {
   "codemirror_mode": {
    "name": "ipython",
    "version": 3
   },
   "file_extension": ".py",
   "mimetype": "text/x-python",
   "name": "python",
   "nbconvert_exporter": "python",
   "pygments_lexer": "ipython3",
   "version": "3.7.3"
  }
 },
 "nbformat": 4,
 "nbformat_minor": 4
}
